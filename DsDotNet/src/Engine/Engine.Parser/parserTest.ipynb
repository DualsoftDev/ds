{
 "cells": [
  {
   "cell_type": "code",
   "execution_count": null,
   "metadata": {
    "dotnet_interactive": {
     "language": "csharp"
    },
    "vscode": {
     "languageId": "dotnet-interactive.csharp"
    }
   },
   "outputs": [
    {
     "name": "stdout",
     "output_type": "stream",
     "text": [
      "가=한글입니다\r\n",
      "나=한글입니다\r\n",
      "다=한글입니다\r\n"
     ]
    }
   ],
   "source": [
    "\n",
    "\n",
    "\n",
    "\n",
    "\n",
    "string s = \"가나다ab‘\";\n",
    "char[] charArr = s.ToCharArray();\n",
    "foreach(char c in charArr)\n",
    "{\n",
    "    if(char.GetUnicodeCategory(c)==System.Globalization.UnicodeCategory.OtherLetter)\n",
    "    {\n",
    "        Console.WriteLine($\"{c}=한글입니다\");\n",
    "    }\n",
    "    else\n",
    "        Console.Write($\"-{c}-\");\n",
    "}\n",
    "\n",
    "Console.Read();\n"
   ]
  }
 ],
 "metadata": {
  "kernelspec": {
   "display_name": ".NET (C#)",
   "language": "C#",
   "name": ".net-csharp"
  },
  "language_info": {
   "file_extension": ".cs",
   "mimetype": "text/x-csharp",
   "name": "C#",
   "pygments_lexer": "csharp",
   "version": "9.0"
  },
  "orig_nbformat": 4
 },
 "nbformat": 4,
 "nbformat_minor": 2
}
